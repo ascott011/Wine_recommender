{
 "cells": [
  {
   "cell_type": "markdown",
   "metadata": {},
   "source": [
    "# Results from TF IDF Recommender"
   ]
  },
  {
   "cell_type": "code",
   "execution_count": 2,
   "metadata": {},
   "outputs": [],
   "source": [
    "import pandas as pd\n",
    "\n",
    "pd.set_option('display.max_rows', None)\n",
    "pd.set_option('display.max_columns', None)\n",
    "pd.set_option('display.width', None)\n",
    "pd.set_option('display.max_colwidth', None)"
   ]
  },
  {
   "cell_type": "code",
   "execution_count": 8,
   "metadata": {},
   "outputs": [
    {
     "data": {
      "text/html": [
       "<div>\n",
       "<style scoped>\n",
       "    .dataframe tbody tr th:only-of-type {\n",
       "        vertical-align: middle;\n",
       "    }\n",
       "\n",
       "    .dataframe tbody tr th {\n",
       "        vertical-align: top;\n",
       "    }\n",
       "\n",
       "    .dataframe thead th {\n",
       "        text-align: right;\n",
       "    }\n",
       "</style>\n",
       "<table border=\"1\" class=\"dataframe\">\n",
       "  <thead>\n",
       "    <tr style=\"text-align: right;\">\n",
       "      <th></th>\n",
       "      <th>wine_type</th>\n",
       "      <th>price</th>\n",
       "      <th>recommendations</th>\n",
       "    </tr>\n",
       "  </thead>\n",
       "  <tbody>\n",
       "    <tr>\n",
       "      <th>Hindsight 2013 Bella Vetta Vineyard Cabernet Sauvignon (Howell Mountain)</th>\n",
       "      <td>Cabernet Sauvignon</td>\n",
       "      <td>$75</td>\n",
       "      <td>[Kuleto Estate 2013 Cabernet Sauvignon (Napa Valley)Proulx 2012 Pinot Noir (Central Coast)Davis Family 2012 Horseshoe Bend Vineyard Pinot Noir (Russian River Valley)Davies 2013 Red Cap Vineyard Cabernet Sauvignon (Howell Mountain)Ghost Pines 2015 Winemaker's Reserve Zinfandel (Sonoma County-San Joaquin County)]</td>\n",
       "    </tr>\n",
       "    <tr>\n",
       "      <th>Felix Lavaque 2010 Felix Malbec (Cafayate)</th>\n",
       "      <td>Malbec</td>\n",
       "      <td>$13</td>\n",
       "      <td>[Montecillo 2004 Crianza  (Rioja)Luigi Bosca 2014 Gala 2 Red (Mendoza)Pingao 2014  RiojaViña Tarapacá 2011 Gran Reserva Cabernet Sauvignon (Maipo Valley)Fat Gaucho 2011 Reserva Malbec (Mendoza)]</td>\n",
       "    </tr>\n",
       "    <tr>\n",
       "      <th>WesMar 2013 Balletto Vineyard Pinot Noir (Russian River Valley)</th>\n",
       "      <td>Pinot Noir</td>\n",
       "      <td>$42</td>\n",
       "      <td>[Peter Paul Wines 2010 Cabernet Sauvignon (Napa Valley)Martin Ranch 2013 Thérèse Vineyards Griva Vineyard Pinot Noir (Arroyo Seco)Château Sainte Marie 2014 Les Hauts de Sainte Marie  (Bordeaux)Joseph Phelps 2014 Freestone Vineyards Estate Grown Pinot Noir (Sonoma Coast)J. Portugal Ramos 2009 Loios Red (Alentejano)]</td>\n",
       "    </tr>\n",
       "    <tr>\n",
       "      <th>Leyda 2015 Single Vineyard Falaris Hill Chardonnay (Leyda Valley)</th>\n",
       "      <td>Chardonnay</td>\n",
       "      <td>$18</td>\n",
       "      <td>[Millaman 2012 Estate Reserve Pinot Noir (Leyda Valley)Root:1 2011 Sauvignon Blanc (Casablanca Valley)Gruet 2011 Sauvage Sparkling (America)Laurenz V. 2010 Laurenz and Sophie Singing Grüner Veltliner (Niederösterreich)Viña Herminia 2012 Crianza  (Rioja)]</td>\n",
       "    </tr>\n",
       "    <tr>\n",
       "      <th>Heron Hill 2015 Ingle Vineyard Riesling (Finger Lakes)</th>\n",
       "      <td>Riesling</td>\n",
       "      <td>$20</td>\n",
       "      <td>[Millbrook 2013 Late Harvest Riesling (Hudson River Region)Suhru 2014 Dry Riesling (New York)Thirsty Owl Wine Company 2012 Pinot Gris (Finger Lakes)Matošević 2008 Alba Malvasia Istriana (Istria)Swedish Hill 2012 Riesling (Finger Lakes)]</td>\n",
       "    </tr>\n",
       "  </tbody>\n",
       "</table>\n",
       "</div>"
      ],
      "text/plain": [
       "                                                                                   wine_type  \\\n",
       "Hindsight 2013 Bella Vetta Vineyard Cabernet Sauvignon (Howell Mountain)  Cabernet Sauvignon   \n",
       "Felix Lavaque 2010 Felix Malbec (Cafayate)                                            Malbec   \n",
       "WesMar 2013 Balletto Vineyard Pinot Noir (Russian River Valley)                   Pinot Noir   \n",
       "Leyda 2015 Single Vineyard Falaris Hill Chardonnay (Leyda Valley)                 Chardonnay   \n",
       "Heron Hill 2015 Ingle Vineyard Riesling (Finger Lakes)                              Riesling   \n",
       "\n",
       "                                                                         price  \\\n",
       "Hindsight 2013 Bella Vetta Vineyard Cabernet Sauvignon (Howell Mountain)   $75   \n",
       "Felix Lavaque 2010 Felix Malbec (Cafayate)                                 $13   \n",
       "WesMar 2013 Balletto Vineyard Pinot Noir (Russian River Valley)            $42   \n",
       "Leyda 2015 Single Vineyard Falaris Hill Chardonnay (Leyda Valley)          $18   \n",
       "Heron Hill 2015 Ingle Vineyard Riesling (Finger Lakes)                     $20   \n",
       "\n",
       "                                                                                                                                                                                                                                                                                                                                                                                       recommendations  \n",
       "Hindsight 2013 Bella Vetta Vineyard Cabernet Sauvignon (Howell Mountain)      [Kuleto Estate 2013 Cabernet Sauvignon (Napa Valley)Proulx 2012 Pinot Noir (Central Coast)Davis Family 2012 Horseshoe Bend Vineyard Pinot Noir (Russian River Valley)Davies 2013 Red Cap Vineyard Cabernet Sauvignon (Howell Mountain)Ghost Pines 2015 Winemaker's Reserve Zinfandel (Sonoma County-San Joaquin County)]  \n",
       "Felix Lavaque 2010 Felix Malbec (Cafayate)                                                                                                                                                          [Montecillo 2004 Crianza  (Rioja)Luigi Bosca 2014 Gala 2 Red (Mendoza)Pingao 2014  RiojaViña Tarapacá 2011 Gran Reserva Cabernet Sauvignon (Maipo Valley)Fat Gaucho 2011 Reserva Malbec (Mendoza)]  \n",
       "WesMar 2013 Balletto Vineyard Pinot Noir (Russian River Valley)           [Peter Paul Wines 2010 Cabernet Sauvignon (Napa Valley)Martin Ranch 2013 Thérèse Vineyards Griva Vineyard Pinot Noir (Arroyo Seco)Château Sainte Marie 2014 Les Hauts de Sainte Marie  (Bordeaux)Joseph Phelps 2014 Freestone Vineyards Estate Grown Pinot Noir (Sonoma Coast)J. Portugal Ramos 2009 Loios Red (Alentejano)]  \n",
       "Leyda 2015 Single Vineyard Falaris Hill Chardonnay (Leyda Valley)                                                                       [Millaman 2012 Estate Reserve Pinot Noir (Leyda Valley)Root:1 2011 Sauvignon Blanc (Casablanca Valley)Gruet 2011 Sauvage Sparkling (America)Laurenz V. 2010 Laurenz and Sophie Singing Grüner Veltliner (Niederösterreich)Viña Herminia 2012 Crianza  (Rioja)]  \n",
       "Heron Hill 2015 Ingle Vineyard Riesling (Finger Lakes)                                                                                                    [Millbrook 2013 Late Harvest Riesling (Hudson River Region)Suhru 2014 Dry Riesling (New York)Thirsty Owl Wine Company 2012 Pinot Gris (Finger Lakes)Matošević 2008 Alba Malvasia Istriana (Istria)Swedish Hill 2012 Riesling (Finger Lakes)]  "
      ]
     },
     "execution_count": 8,
     "metadata": {},
     "output_type": "execute_result"
    }
   ],
   "source": [
    "column_titles = ['wine_type', 'price', 'recommendations']\n",
    "\n",
    "wine_title = ['Hindsight 2013 Bella Vetta Vineyard Cabernet Sauvignon (Howell Mountain)',\n",
    "              'Felix Lavaque 2010 Felix Malbec (Cafayate)', \n",
    "              'WesMar 2013 Balletto Vineyard Pinot Noir (Russian River Valley)', \n",
    "              'Leyda 2015 Single Vineyard Falaris Hill Chardonnay (Leyda Valley)',\n",
    "              'Heron Hill 2015 Ingle Vineyard Riesling (Finger Lakes)']\n",
    "\n",
    "\n",
    "tf_idf_results_df = pd.DataFrame([['Cabernet Sauvignon', '$75', ['Kuleto Estate 2013 Cabernet Sauvignon (Napa Valley)'\n",
    " 'Proulx 2012 Pinot Noir (Central Coast)'\n",
    " 'Davis Family 2012 Horseshoe Bend Vineyard Pinot Noir (Russian River Valley)'\n",
    " 'Davies 2013 Red Cap Vineyard Cabernet Sauvignon (Howell Mountain)'\n",
    " \"Ghost Pines 2015 Winemaker's Reserve Zinfandel (Sonoma County-San Joaquin County)\"]],\n",
    "                           ['Malbec', '$13', ['Montecillo 2004 Crianza  (Rioja)'\n",
    " 'Luigi Bosca 2014 Gala 2 Red (Mendoza)' 'Pingao 2014  Rioja'\n",
    " 'Viña Tarapacá 2011 Gran Reserva Cabernet Sauvignon (Maipo Valley)'\n",
    " 'Fat Gaucho 2011 Reserva Malbec (Mendoza)']],\n",
    "                           ['Pinot Noir', '$42', ['Peter Paul Wines 2010 Cabernet Sauvignon (Napa Valley)'\n",
    " 'Martin Ranch 2013 Thérèse Vineyards Griva Vineyard Pinot Noir (Arroyo Seco)'\n",
    " 'Château Sainte Marie 2014 Les Hauts de Sainte Marie  (Bordeaux)'\n",
    " 'Joseph Phelps 2014 Freestone Vineyards Estate Grown Pinot Noir (Sonoma Coast)'\n",
    " 'J. Portugal Ramos 2009 Loios Red (Alentejano)']],\n",
    "                           ['Chardonnay', '$18', ['Millaman 2012 Estate Reserve Pinot Noir (Leyda Valley)'\n",
    " 'Root:1 2011 Sauvignon Blanc (Casablanca Valley)'\n",
    " 'Gruet 2011 Sauvage Sparkling (America)'\n",
    " 'Laurenz V. 2010 Laurenz and Sophie Singing Grüner Veltliner (Niederösterreich)'\n",
    " 'Viña Herminia 2012 Crianza  (Rioja)']],\n",
    "                           ['Riesling', '$20', ['Millbrook 2013 Late Harvest Riesling (Hudson River Region)'\n",
    " 'Suhru 2014 Dry Riesling (New York)'\n",
    " 'Thirsty Owl Wine Company 2012 Pinot Gris (Finger Lakes)'\n",
    " 'Matošević 2008 Alba Malvasia Istriana (Istria)'\n",
    " 'Swedish Hill 2012 Riesling (Finger Lakes)']]\n",
    "                           \n",
    "                           ],index=wine_title, columns=column_titles)\n",
    "\n",
    "tf_idf_results_df"
   ]
  },
  {
   "cell_type": "code",
   "execution_count": null,
   "metadata": {},
   "outputs": [],
   "source": []
  },
  {
   "cell_type": "code",
   "execution_count": 20,
   "metadata": {},
   "outputs": [],
   "source": [
    "column_titles = ['wine_type', 'price', 'recommendations']\n",
    "\n",
    "wine_title = []\n",
    "\n",
    "lda_results_df = pd.DataFrame([], index=wine_title, columns=column_titles)\n"
   ]
  },
  {
   "cell_type": "code",
   "execution_count": null,
   "metadata": {},
   "outputs": [],
   "source": []
  }
 ],
 "metadata": {
  "kernelspec": {
   "display_name": "Python 3",
   "language": "python",
   "name": "python3"
  },
  "language_info": {
   "codemirror_mode": {
    "name": "ipython",
    "version": 3
   },
   "file_extension": ".py",
   "mimetype": "text/x-python",
   "name": "python",
   "nbconvert_exporter": "python",
   "pygments_lexer": "ipython3",
   "version": "3.7.9"
  }
 },
 "nbformat": 4,
 "nbformat_minor": 4
}
