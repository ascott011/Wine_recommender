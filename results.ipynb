{
 "cells": [
  {
   "cell_type": "markdown",
   "metadata": {},
   "source": [
    "# Results from TF IDF Recommender"
   ]
  },
  {
   "cell_type": "code",
   "execution_count": 13,
   "metadata": {},
   "outputs": [],
   "source": [
    "import pandas as pd\n",
    "\n",
    "pd.set_option('display.max_rows', None)\n",
    "pd.set_option('display.max_columns', None)\n",
    "pd.set_option('display.width', None)\n",
    "pd.set_option('display.max_colwidth', None)"
   ]
  },
  {
   "cell_type": "code",
   "execution_count": 19,
   "metadata": {},
   "outputs": [
    {
     "data": {
      "text/html": [
       "<div>\n",
       "<style scoped>\n",
       "    .dataframe tbody tr th:only-of-type {\n",
       "        vertical-align: middle;\n",
       "    }\n",
       "\n",
       "    .dataframe tbody tr th {\n",
       "        vertical-align: top;\n",
       "    }\n",
       "\n",
       "    .dataframe thead th {\n",
       "        text-align: right;\n",
       "    }\n",
       "</style>\n",
       "<table border=\"1\" class=\"dataframe\">\n",
       "  <thead>\n",
       "    <tr style=\"text-align: right;\">\n",
       "      <th></th>\n",
       "      <th>wine_type</th>\n",
       "      <th>price</th>\n",
       "      <th>recommendations</th>\n",
       "    </tr>\n",
       "  </thead>\n",
       "  <tbody>\n",
       "    <tr>\n",
       "      <th>Patel 2013 Cabernet Sauvignon (Napa Valley)</th>\n",
       "      <td>Cabernet Sauvignon</td>\n",
       "      <td>$125</td>\n",
       "      <td>[Chimney Rock 2014 Clone 7 Estate Grown Cabernet Sauvignon (Stags Leap District)Jax 2013 Estate Block 3 Cabernet Sauvignon (Calistoga)Franciscan 2012 Cabernet Sauvignon (Napa Valley)Abarbanel 2006 Estate Bottled Kosher Pinot Blanc (Alsace)Conn Creek 2013 Anthology Cabernet Sauvignon (Napa Valley)]</td>\n",
       "    </tr>\n",
       "    <tr>\n",
       "      <th>Martin Ranch 2012 Thérèse Vineyards Dos Niñas Vineyard Malbec (Santa Clara Valley)</th>\n",
       "      <td>Malbec</td>\n",
       "      <td>$40</td>\n",
       "      <td>[Tabarrini 2010 Colle alle Macchie  (Montefalco Sagrantino)Indigené 2011 Parenthesis Syrah (Santa Maria Valley)Happy Canyon Vineyard 2011 Barrack Family Estate X Ten-Goal Red (Happy Canyon of Santa Barbara)Migration 2013 Bien Nacido Vineyard Pinot Noir (Santa Maria Valley)Terras de Alter 2013 Terra d'Alter Alfrocheiro (Alentejano)]</td>\n",
       "    </tr>\n",
       "    <tr>\n",
       "      <th>WesMar 2013 Balletto Vineyard Pinot Noir (Russian River Valley)</th>\n",
       "      <td>Pinot Noir</td>\n",
       "      <td>$42</td>\n",
       "      <td>[Peter Paul Wines 2010 Cabernet Sauvignon (Napa Valley)Martin Ranch 2013 Thérèse Vineyards Griva Vineyard Pinot Noir (Arroyo Seco)Château Sainte Marie 2014 Les Hauts de Sainte Marie  (Bordeaux)Joseph Phelps 2014 Freestone Vineyards Estate Grown Pinot Noir (Sonoma Coast)J. Portugal Ramos 2009 Loios Red (Alentejano)]</td>\n",
       "    </tr>\n",
       "    <tr>\n",
       "      <th>Friedeman 2014 UV Lancel Creek Chardonnay (Russian River Valley)</th>\n",
       "      <td>Chardonnay</td>\n",
       "      <td>$44</td>\n",
       "      <td>[Arista 2013 U.V. Lucky Well Vineyard Pinot Noir (Russian River Valley)Friedeman 2013 UV Lancel Creek Vineyard Chardonnay (Russian River Valley)Stuhlmuller Vineyards 2012 Cooper Block Starr Ridge Pinot Noir (Russian River Valley)Sojourn 2013 Silver Eagle Vineyard Pinot Noir (Sonoma Coast)Galatea Effect 2013 Conoscenti Pinot Noir (Sonoma Coast)]</td>\n",
       "    </tr>\n",
       "    <tr>\n",
       "      <th>Loimer 2015 Langenlois Riesling (Kamptal)</th>\n",
       "      <td>Riesling</td>\n",
       "      <td>$22</td>\n",
       "      <td>[Cave du Roi Dagobert 2015 Racines &amp; Terroirs Riesling (Alsace)Schloss Gobelsburg 2015 Riesling (Kamptal)Justin 2014 Justification Red (Paso Robles)Schloss Gobelsburg 2015 Langenlois Grüner Veltliner (Kamptal)Neumeister 2014 Steirische Klassik Sauvignon Blanc (Südoststeiermark)]</td>\n",
       "    </tr>\n",
       "  </tbody>\n",
       "</table>\n",
       "</div>"
      ],
      "text/plain": [
       "                                                                                             wine_type  \\\n",
       "Patel 2013 Cabernet Sauvignon (Napa Valley)                                         Cabernet Sauvignon   \n",
       "Martin Ranch 2012 Thérèse Vineyards Dos Niñas Vineyard Malbec (Santa Clara Valley)              Malbec   \n",
       "WesMar 2013 Balletto Vineyard Pinot Noir (Russian River Valley)                             Pinot Noir   \n",
       "Friedeman 2014 UV Lancel Creek Chardonnay (Russian River Valley)                            Chardonnay   \n",
       "Loimer 2015 Langenlois Riesling (Kamptal)                                                     Riesling   \n",
       "\n",
       "                                                                                   price  \\\n",
       "Patel 2013 Cabernet Sauvignon (Napa Valley)                                         $125   \n",
       "Martin Ranch 2012 Thérèse Vineyards Dos Niñas Vineyard Malbec (Santa Clara Valley)   $40   \n",
       "WesMar 2013 Balletto Vineyard Pinot Noir (Russian River Valley)                      $42   \n",
       "Friedeman 2014 UV Lancel Creek Chardonnay (Russian River Valley)                     $44   \n",
       "Loimer 2015 Langenlois Riesling (Kamptal)                                            $22   \n",
       "\n",
       "                                                                                                                                                                                                                                                                                                                                                                                                                               recommendations  \n",
       "Patel 2013 Cabernet Sauvignon (Napa Valley)                                                                                         [Chimney Rock 2014 Clone 7 Estate Grown Cabernet Sauvignon (Stags Leap District)Jax 2013 Estate Block 3 Cabernet Sauvignon (Calistoga)Franciscan 2012 Cabernet Sauvignon (Napa Valley)Abarbanel 2006 Estate Bottled Kosher Pinot Blanc (Alsace)Conn Creek 2013 Anthology Cabernet Sauvignon (Napa Valley)]  \n",
       "Martin Ranch 2012 Thérèse Vineyards Dos Niñas Vineyard Malbec (Santa Clara Valley)               [Tabarrini 2010 Colle alle Macchie  (Montefalco Sagrantino)Indigené 2011 Parenthesis Syrah (Santa Maria Valley)Happy Canyon Vineyard 2011 Barrack Family Estate X Ten-Goal Red (Happy Canyon of Santa Barbara)Migration 2013 Bien Nacido Vineyard Pinot Noir (Santa Maria Valley)Terras de Alter 2013 Terra d'Alter Alfrocheiro (Alentejano)]  \n",
       "WesMar 2013 Balletto Vineyard Pinot Noir (Russian River Valley)                                                   [Peter Paul Wines 2010 Cabernet Sauvignon (Napa Valley)Martin Ranch 2013 Thérèse Vineyards Griva Vineyard Pinot Noir (Arroyo Seco)Château Sainte Marie 2014 Les Hauts de Sainte Marie  (Bordeaux)Joseph Phelps 2014 Freestone Vineyards Estate Grown Pinot Noir (Sonoma Coast)J. Portugal Ramos 2009 Loios Red (Alentejano)]  \n",
       "Friedeman 2014 UV Lancel Creek Chardonnay (Russian River Valley)                    [Arista 2013 U.V. Lucky Well Vineyard Pinot Noir (Russian River Valley)Friedeman 2013 UV Lancel Creek Vineyard Chardonnay (Russian River Valley)Stuhlmuller Vineyards 2012 Cooper Block Starr Ridge Pinot Noir (Russian River Valley)Sojourn 2013 Silver Eagle Vineyard Pinot Noir (Sonoma Coast)Galatea Effect 2013 Conoscenti Pinot Noir (Sonoma Coast)]  \n",
       "Loimer 2015 Langenlois Riesling (Kamptal)                                                                                                              [Cave du Roi Dagobert 2015 Racines & Terroirs Riesling (Alsace)Schloss Gobelsburg 2015 Riesling (Kamptal)Justin 2014 Justification Red (Paso Robles)Schloss Gobelsburg 2015 Langenlois Grüner Veltliner (Kamptal)Neumeister 2014 Steirische Klassik Sauvignon Blanc (Südoststeiermark)]  "
      ]
     },
     "execution_count": 19,
     "metadata": {},
     "output_type": "execute_result"
    }
   ],
   "source": [
    "column_titles = ['wine_type', 'price', 'recommendations']\n",
    "\n",
    "wine_title = ['Patel 2013 Cabernet Sauvignon (Napa Valley)',\n",
    "              'Martin Ranch 2012 Thérèse Vineyards Dos Niñas Vineyard Malbec (Santa Clara Valley)', \n",
    "              'WesMar 2013 Balletto Vineyard Pinot Noir (Russian River Valley)', \n",
    "              'Friedeman 2014 UV Lancel Creek Chardonnay (Russian River Valley)',\n",
    "              'Loimer 2015 Langenlois Riesling (Kamptal)']\n",
    "\n",
    "\n",
    "tf_idf_results_df = pd.DataFrame([['Cabernet Sauvignon', '$125', ['Chimney Rock 2014 Clone 7 Estate Grown Cabernet Sauvignon (Stags Leap District)'\n",
    " 'Jax 2013 Estate Block 3 Cabernet Sauvignon (Calistoga)'\n",
    " 'Franciscan 2012 Cabernet Sauvignon (Napa Valley)'\n",
    " 'Abarbanel 2006 Estate Bottled Kosher Pinot Blanc (Alsace)'\n",
    " 'Conn Creek 2013 Anthology Cabernet Sauvignon (Napa Valley)']],\n",
    "                           ['Malbec', '$40', ['Tabarrini 2010 Colle alle Macchie  (Montefalco Sagrantino)'\n",
    " 'Indigené 2011 Parenthesis Syrah (Santa Maria Valley)'\n",
    " 'Happy Canyon Vineyard 2011 Barrack Family Estate X Ten-Goal Red (Happy Canyon of Santa Barbara)'\n",
    " 'Migration 2013 Bien Nacido Vineyard Pinot Noir (Santa Maria Valley)'\n",
    " \"Terras de Alter 2013 Terra d'Alter Alfrocheiro (Alentejano)\"]],\n",
    "                           ['Pinot Noir', '$42', ['Peter Paul Wines 2010 Cabernet Sauvignon (Napa Valley)'\n",
    " 'Martin Ranch 2013 Thérèse Vineyards Griva Vineyard Pinot Noir (Arroyo Seco)'\n",
    " 'Château Sainte Marie 2014 Les Hauts de Sainte Marie  (Bordeaux)'\n",
    " 'Joseph Phelps 2014 Freestone Vineyards Estate Grown Pinot Noir (Sonoma Coast)'\n",
    " 'J. Portugal Ramos 2009 Loios Red (Alentejano)']],\n",
    "                           ['Chardonnay', '$44', ['Arista 2013 U.V. Lucky Well Vineyard Pinot Noir (Russian River Valley)'\n",
    " 'Friedeman 2013 UV Lancel Creek Vineyard Chardonnay (Russian River Valley)'\n",
    " 'Stuhlmuller Vineyards 2012 Cooper Block Starr Ridge Pinot Noir (Russian River Valley)'\n",
    " 'Sojourn 2013 Silver Eagle Vineyard Pinot Noir (Sonoma Coast)'\n",
    " 'Galatea Effect 2013 Conoscenti Pinot Noir (Sonoma Coast)']],\n",
    "                           ['Riesling', '$22', ['Cave du Roi Dagobert 2015 Racines & Terroirs Riesling (Alsace)'\n",
    " 'Schloss Gobelsburg 2015 Riesling (Kamptal)'\n",
    " 'Justin 2014 Justification Red (Paso Robles)'\n",
    " 'Schloss Gobelsburg 2015 Langenlois Grüner Veltliner (Kamptal)'\n",
    " 'Neumeister 2014 Steirische Klassik Sauvignon Blanc (Südoststeiermark)']]\n",
    "                           \n",
    "                           ],index=wine_title, columns=column_titles)\n",
    "\n",
    "tf_idf_results_df"
   ]
  },
  {
   "cell_type": "code",
   "execution_count": null,
   "metadata": {},
   "outputs": [],
   "source": []
  },
  {
   "cell_type": "code",
   "execution_count": null,
   "metadata": {},
   "outputs": [],
   "source": [
    "column_titles = ['wine_type', 'price', 'recommendations']\n",
    "\n",
    "wine_title = []\n",
    "\n",
    "\n"
   ]
  },
  {
   "cell_type": "code",
   "execution_count": null,
   "metadata": {},
   "outputs": [],
   "source": []
  }
 ],
 "metadata": {
  "kernelspec": {
   "display_name": "Python 3",
   "language": "python",
   "name": "python3"
  },
  "language_info": {
   "codemirror_mode": {
    "name": "ipython",
    "version": 3
   },
   "file_extension": ".py",
   "mimetype": "text/x-python",
   "name": "python",
   "nbconvert_exporter": "python",
   "pygments_lexer": "ipython3",
   "version": "3.7.9"
  }
 },
 "nbformat": 4,
 "nbformat_minor": 4
}
